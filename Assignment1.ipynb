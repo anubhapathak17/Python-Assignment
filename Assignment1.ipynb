{
 "cells": [
  {
   "cell_type": "markdown",
   "id": "a832948c",
   "metadata": {},
   "source": [
    "# Write code that uses iteration to print out the length of each element of the list stored in list.¶\n",
    "list = [\"hello\", \"\", \"goodbye\", \"wonderful\", \"I love Python\"]"
   ]
  },
  {
   "cell_type": "code",
   "execution_count": 11,
   "id": "dea197c3",
   "metadata": {},
   "outputs": [
    {
     "name": "stdout",
     "output_type": "stream",
     "text": [
      "5\n",
      "0\n",
      "7\n",
      "9\n",
      "13\n"
     ]
    }
   ],
   "source": [
    "str_list = [\"hello\", \"\", \"goodbye\", \"wonderful\", \"I love Python\"]\n",
    "for i in str_list:\n",
    "    print(len(i))"
   ]
  },
  {
   "cell_type": "markdown",
   "id": "c42a391f",
   "metadata": {},
   "source": [
    "# Write a Python program to count and display the vowels of a given text."
   ]
  },
  {
   "cell_type": "code",
   "execution_count": 2,
   "id": "736e0f0f",
   "metadata": {},
   "outputs": [
    {
     "name": "stdout",
     "output_type": "stream",
     "text": [
      "12\n",
      "['e', 'o', 'o', 'o', 'e', 'o', 'e', 'u', 'i', 'o', 'e', 'o']\n"
     ]
    }
   ],
   "source": [
    "def vowel(text):\n",
    "    vowels = \"aeiuoAEIOU\"\n",
    "    print(len([letter for letter in text if letter in vowels]))\n",
    "    print([letter for letter in text if letter in vowels])\n",
    "vowel('hello,goodbye,wonderful,i love python');\n"
   ]
  },
  {
   "cell_type": "markdown",
   "id": "9d36a705",
   "metadata": {},
   "source": [
    "# Write code to create a list of numbers from 0 to 88 and assign that list to the variable nums. Do not hard code the list.¶"
   ]
  },
  {
   "cell_type": "code",
   "execution_count": 9,
   "id": "9072048d",
   "metadata": {},
   "outputs": [
    {
     "name": "stdout",
     "output_type": "stream",
     "text": [
      "[0, 1, 2, 3, 4, 5, 6, 7, 8, 9, 10, 11, 12, 13, 14, 15, 16, 17, 18, 19, 20, 21, 22, 23, 24, 25, 26, 27, 28, 29, 30, 31, 32, 33, 34, 35, 36, 37, 38, 39, 40, 41, 42, 43, 44, 45, 46, 47, 48, 49, 50, 51, 52, 53, 54, 55, 56, 57, 58, 59, 60, 61, 62, 63, 64, 65, 66, 67, 68, 69, 70, 71, 72, 73, 74, 75, 76, 77, 78, 79, 80, 81, 82, 83, 84, 85, 86, 87, 88]\n"
     ]
    }
   ],
   "source": [
    "nums = list(range(0, 89))\n",
    "print(nums)"
   ]
  },
  {
   "cell_type": "markdown",
   "id": "d61b8b17",
   "metadata": {},
   "source": [
    "# Write a Python program to find the volume of a sphere with diameter 12 cm.\n",
    "Formula: V=4/3 * π *  r 3"
   ]
  },
  {
   "cell_type": "code",
   "execution_count": 12,
   "id": "5a4c6ea7",
   "metadata": {},
   "outputs": [
    {
     "name": "stdout",
     "output_type": "stream",
     "text": [
      "The volume of the sphere is:  904.7786842338603\n"
     ]
    }
   ],
   "source": [
    "pi = 3.1415926535897931\n",
    "r= float(12/2)\n",
    "V= float(4/3)*pi* r**3\n",
    "print('The volume of the sphere is: ',V)"
   ]
  },
  {
   "cell_type": "markdown",
   "id": "2d60fde0",
   "metadata": {},
   "source": [
    "# Addition is a string with a list of numbers separated by the + sign. Write code that uses the accumulation pattern to take the sum of all of the numbers and assigns it to sum_val (an integer). (You should use the .split(\"+\") function to split by \"+\" and int() to cast to an integer).¶\n",
    "Addition = \"2+5+10+20\""
   ]
  },
  {
   "cell_type": "code",
   "execution_count": 14,
   "id": "30cae368",
   "metadata": {},
   "outputs": [
    {
     "name": "stdout",
     "output_type": "stream",
     "text": [
      "37\n"
     ]
    }
   ],
   "source": [
    "addition_str = \"2+5+10+20\"\n",
    "su = addition_str.split('+')\n",
    "\n",
    "sum_val = 0\n",
    "for i in su:\n",
    "    sum_val = sum_val + int(i)\n",
    "\n",
    "print(sum_val)"
   ]
  },
  {
   "cell_type": "code",
   "execution_count": null,
   "id": "c4ddaa5c",
   "metadata": {},
   "outputs": [],
   "source": []
  }
 ],
 "metadata": {
  "kernelspec": {
   "display_name": "Python 3",
   "language": "python",
   "name": "python3"
  },
  "language_info": {
   "codemirror_mode": {
    "name": "ipython",
    "version": 3
   },
   "file_extension": ".py",
   "mimetype": "text/x-python",
   "name": "python",
   "nbconvert_exporter": "python",
   "pygments_lexer": "ipython3",
   "version": "3.8.8"
  }
 },
 "nbformat": 4,
 "nbformat_minor": 5
}
