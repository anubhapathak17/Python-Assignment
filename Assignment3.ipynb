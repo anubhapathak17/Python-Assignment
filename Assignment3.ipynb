{
 "cells": [
  {
   "cell_type": "markdown",
   "id": "a00fe481",
   "metadata": {},
   "source": [
    "# 1. Write a Python function to find the Max of three numbers."
   ]
  },
  {
   "cell_type": "code",
   "execution_count": 2,
   "id": "08bd5766",
   "metadata": {},
   "outputs": [
    {
     "data": {
      "text/plain": [
       "85"
      ]
     },
     "execution_count": 2,
     "metadata": {},
     "output_type": "execute_result"
    }
   ],
   "source": [
    "def maximum(a, b, c):\n",
    "  \n",
    "    if (a >= b) and (a >= c):\n",
    "         Max_of_three_numbers = a\n",
    "  \n",
    "    elif (b >= a) and (b >= c):\n",
    "         Max_of_three_numbers = b\n",
    "    else:\n",
    "         Max_of_three_numbers = c\n",
    "          \n",
    "    return  Max_of_three_numbers\n",
    "maximum(85, 56, 22)"
   ]
  },
  {
   "cell_type": "markdown",
   "id": "c090b0fb",
   "metadata": {},
   "source": [
    "# 2. Write a Python function to multiply all the numbers in a list"
   ]
  },
  {
   "cell_type": "code",
   "execution_count": 3,
   "id": "9b26633f",
   "metadata": {},
   "outputs": [
    {
     "name": "stdout",
     "output_type": "stream",
     "text": [
      "120\n"
     ]
    }
   ],
   "source": [
    "l=[2,3,4,5]\n",
    "s=1\n",
    "for i in l:\n",
    "    s=s*i\n",
    "print(s)"
   ]
  },
  {
   "cell_type": "markdown",
   "id": "ea67295e",
   "metadata": {},
   "source": [
    "# 3. Write a Python function that accepts a string and calculate the number of upper case letters and lower case letters"
   ]
  },
  {
   "cell_type": "code",
   "execution_count": 11,
   "id": "b90ebb48",
   "metadata": {},
   "outputs": [
    {
     "name": "stdout",
     "output_type": "stream",
     "text": [
      "Enter string:adfhDFHJ\n",
      "No. of Upper case characters :  4\n",
      "No. of Lower case Characters :  4\n"
     ]
    }
   ],
   "source": [
    "def string_test(str=input(\"Enter string:\")):\n",
    "    d={\"UPPER_CASE\":0, \"LOWER_CASE\":0}\n",
    "    for c in str:\n",
    "        if c.isupper():\n",
    "            d[\"UPPER_CASE\"]+=1\n",
    "        elif c.islower():\n",
    "                d[\"LOWER_CASE\"]+=1\n",
    "        else:\n",
    "            pass\n",
    "   \n",
    "    print (\"No. of Upper case characters : \", d[\"UPPER_CASE\"])\n",
    "    print (\"No. of Lower case Characters : \", d[\"LOWER_CASE\"])\n",
    " "
   ]
  },
  {
   "cell_type": "code",
   "execution_count": 10,
   "id": "274b58fd",
   "metadata": {},
   "outputs": [
    {
     "name": "stdout",
     "output_type": "stream",
     "text": [
      "No. of Upper case characters :  3\n",
      "No. of Lower case Characters :  4\n"
     ]
    }
   ],
   "source": [
    "string_test()\n"
   ]
  },
  {
   "cell_type": "markdown",
   "id": "489a00ac",
   "metadata": {},
   "source": [
    "# Ques 4. Write a Python function that checks whether a passed string is palindrome or not"
   ]
  },
  {
   "cell_type": "code",
   "execution_count": 6,
   "id": "f494211b",
   "metadata": {},
   "outputs": [
    {
     "name": "stdout",
     "output_type": "stream",
     "text": [
      "2\n",
      "6\n",
      "8\n",
      "68\n"
     ]
    }
   ],
   "source": [
    "l = [2,5,7,3,6,8,23,68,71]\n",
    "for i in l:\n",
    "    if i%2==0 :\n",
    "        print(i)\n",
    "\n"
   ]
  },
  {
   "cell_type": "markdown",
   "id": "7b0520bd",
   "metadata": {},
   "source": [
    "# 5. Write a Python program to print the even numbers from a given list."
   ]
  },
  {
   "cell_type": "code",
   "execution_count": 7,
   "id": "9637eb36",
   "metadata": {},
   "outputs": [
    {
     "name": "stdout",
     "output_type": "stream",
     "text": [
      "Enter string:MOM\n",
      "The string is a palindrome\n"
     ]
    }
   ],
   "source": [
    "def pel(str=input(\"Enter string:\")):\n",
    "    if(str==str[::-1]):\n",
    "        print(\"The string is a palindrome\")\n",
    "        \n",
    "    else:\n",
    "        print(\"The string isn't a palindrome\")\n",
    "pel()\n"
   ]
  }
 ],
 "metadata": {
  "kernelspec": {
   "display_name": "Python 3",
   "language": "python",
   "name": "python3"
  },
  "language_info": {
   "codemirror_mode": {
    "name": "ipython",
    "version": 3
   },
   "file_extension": ".py",
   "mimetype": "text/x-python",
   "name": "python",
   "nbconvert_exporter": "python",
   "pygments_lexer": "ipython3",
   "version": "3.8.8"
  }
 },
 "nbformat": 4,
 "nbformat_minor": 5
}
