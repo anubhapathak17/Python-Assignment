{
 "cells": [
  {
   "cell_type": "code",
   "execution_count": 5,
   "id": "ba19f551",
   "metadata": {},
   "outputs": [
    {
     "data": {
      "text/plain": [
       "[[2, 4, 6, 8, 10, 12, 14, 16, 18, 20],\n",
       " [3, 6, 9, 12, 15, 18, 21, 24, 27, 30],\n",
       " [4, 8, 12, 16, 20, 24, 28, 32, 36, 40],\n",
       " [5, 10, 15, 20, 25, 30, 35, 40, 45, 50],\n",
       " [6, 12, 18, 24, 30, 36, 42, 48, 54, 60],\n",
       " [7, 14, 21, 28, 35, 42, 49, 56, 63, 70],\n",
       " [8, 16, 24, 32, 40, 48, 56, 64, 72, 80],\n",
       " [9, 18, 27, 36, 45, 54, 63, 72, 81, 90],\n",
       " [10, 20, 30, 40, 50, 60, 70, 80, 90, 100]]"
      ]
     },
     "execution_count": 5,
     "metadata": {},
     "output_type": "execute_result"
    }
   ],
   "source": [
    "[[i*j for j in range(1,11)] for i in range(2,11)]"
   ]
  },
  {
   "cell_type": "code",
   "execution_count": 4,
   "id": "7e231f4f",
   "metadata": {},
   "outputs": [],
   "source": [
    "class Rectangle:\n",
    "    \"\"\" A class of Python object that describes the properties of a rectangle\"\"\"\n",
    "    def __init__(self, width, height, center=(0, 0)):\n",
    "        self.width = width\n",
    "        self.height = height\n",
    "        self.center = center\n",
    "\n",
    "    def __repr__(self):\n",
    "        return \"Rectangle(width={w}, height={h}, center={c})\".format(h=self.height,\n",
    "                                                                     w=self.width,\n",
    "                                                                     c=self.center)\n",
    "\n",
    "    def area(self):\n",
    "        return self.width * self.height"
   ]
  },
  {
   "cell_type": "code",
   "execution_count": 5,
   "id": "6b8e2e3b",
   "metadata": {},
   "outputs": [],
   "source": [
    "# Creating Square, a subclass of Rectangle\n",
    "class Square(Rectangle):\n",
    "    def __init__(self, side, center=(0, 0)):\n",
    "        # equivalent to `Rectangle.__init__(self, side, side, center)`\n",
    "        super().__init__(side, side, center)"
   ]
  },
  {
   "cell_type": "code",
   "execution_count": 9,
   "id": "70561949",
   "metadata": {},
   "outputs": [
    {
     "ename": "SyntaxError",
     "evalue": "invalid syntax (<ipython-input-9-2fbaf588939d>, line 1)",
     "output_type": "error",
     "traceback": [
      "\u001b[1;36m  File \u001b[1;32m\"<ipython-input-9-2fbaf588939d>\"\u001b[1;36m, line \u001b[1;32m1\u001b[0m\n\u001b[1;33m    class square(area)\u001b[0m\n\u001b[1;37m                      ^\u001b[0m\n\u001b[1;31mSyntaxError\u001b[0m\u001b[1;31m:\u001b[0m invalid syntax\n"
     ]
    }
   ],
   "source": [
    "class square(area)\n"
   ]
  },
  {
   "cell_type": "code",
   "execution_count": 14,
   "id": "fb5977cb",
   "metadata": {},
   "outputs": [
    {
     "ename": "SyntaxError",
     "evalue": "invalid syntax (<ipython-input-14-9e67c2cfcdac>, line 10)",
     "output_type": "error",
     "traceback": [
      "\u001b[1;36m  File \u001b[1;32m\"<ipython-input-14-9e67c2cfcdac>\"\u001b[1;36m, line \u001b[1;32m10\u001b[0m\n\u001b[1;33m    return self.perimeter=2*(l+w)\u001b[0m\n\u001b[1;37m                         ^\u001b[0m\n\u001b[1;31mSyntaxError\u001b[0m\u001b[1;31m:\u001b[0m invalid syntax\n"
     ]
    }
   ],
   "source": [
    "class Rectangle():\n",
    "    def __init__(self, l, w):\n",
    "        self.length = l\n",
    "        self.width  = w\n",
    "\n",
    "    def rectangle_area(self):\n",
    "        return self.length*self.width\n",
    "    \n",
    "    def rectangle_perimeter(self):\n",
    "        return self.perimeter=2*(l+w)\n",
    "\n",
    "newRectangle = Rectangle(12, 10)\n",
    "newRectangle = Rectangle(12,10)\n",
    "print(newRectangle.rectangle_area())\n",
    "print(newRectangle.rectangle_perimeter())"
   ]
  },
  {
   "cell_type": "code",
   "execution_count": 15,
   "id": "393afd1b",
   "metadata": {},
   "outputs": [
    {
     "name": "stdout",
     "output_type": "stream",
     "text": [
      "8\n",
      "12\n"
     ]
    }
   ],
   "source": [
    "class Rectangle():\n",
    "    def __init__(self, l, b):\n",
    "        self.length = l\n",
    "        self.breadth = b\n",
    "\n",
    "    def getArea(self):\n",
    "        return self.length * self.breadth\n",
    "\n",
    "    def getPerimeter(self):\n",
    "        return 2*(self.length + self.breadth)\n",
    "\n",
    "rect = Rectangle(2,4)\n",
    "\n",
    "print(rect.getArea())\n",
    "print(rect.getPerimeter())"
   ]
  },
  {
   "cell_type": "code",
   "execution_count": 17,
   "id": "14c7c1d8",
   "metadata": {},
   "outputs": [
    {
     "ename": "SyntaxError",
     "evalue": "invalid syntax (<ipython-input-17-1c52a6791eea>, line 3)",
     "output_type": "error",
     "traceback": [
      "\u001b[1;36m  File \u001b[1;32m\"<ipython-input-17-1c52a6791eea>\"\u001b[1;36m, line \u001b[1;32m3\u001b[0m\n\u001b[1;33m    super(Rectangle,self)__init__(*args):\u001b[0m\n\u001b[1;37m                         ^\u001b[0m\n\u001b[1;31mSyntaxError\u001b[0m\u001b[1;31m:\u001b[0m invalid syntax\n"
     ]
    }
   ],
   "source": [
    "class Square():\n",
    "    def __init__(self, area,perimeter,*args):\n",
    "        super(Rectangle,self)__init__(*args):\n",
    "            self.area = area\n",
    "            self.perimeter = perimeter\n",
    "\n",
    "\n",
    "sq1 = Square()\n",
    "print(sq1.perimeter())\n"
   ]
  },
  {
   "cell_type": "code",
   "execution_count": 1,
   "id": "6c8e5b45",
   "metadata": {},
   "outputs": [
    {
     "ename": "SyntaxError",
     "evalue": "invalid syntax (<ipython-input-1-4c352217a7e9>, line 1)",
     "output_type": "error",
     "traceback": [
      "\u001b[1;36m  File \u001b[1;32m\"<ipython-input-1-4c352217a7e9>\"\u001b[1;36m, line \u001b[1;32m1\u001b[0m\n\u001b[1;33m    lass Rectangle:\u001b[0m\n\u001b[1;37m         ^\u001b[0m\n\u001b[1;31mSyntaxError\u001b[0m\u001b[1;31m:\u001b[0m invalid syntax\n"
     ]
    }
   ],
   "source": [
    "lass Rectangle:\n",
    "    def _init_(self,length,width):\n",
    "        self.length = length\n",
    "        self.width = width\n",
    "        \n",
    "        \n",
    "    def area(self):\n",
    "        return self.length*self.width\n",
    "    def perimeter(self):\n",
    "        return 2*(self.length+self.width)"
   ]
  },
  {
   "cell_type": "code",
   "execution_count": null,
   "id": "ee105c5a",
   "metadata": {},
   "outputs": [],
   "source": []
  }
 ],
 "metadata": {
  "kernelspec": {
   "display_name": "Python 3",
   "language": "python",
   "name": "python3"
  },
  "language_info": {
   "codemirror_mode": {
    "name": "ipython",
    "version": 3
   },
   "file_extension": ".py",
   "mimetype": "text/x-python",
   "name": "python",
   "nbconvert_exporter": "python",
   "pygments_lexer": "ipython3",
   "version": "3.8.8"
  }
 },
 "nbformat": 4,
 "nbformat_minor": 5
}
