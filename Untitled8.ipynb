{
 "cells": [
  {
   "cell_type": "code",
   "execution_count": 1,
   "id": "c9091720",
   "metadata": {},
   "outputs": [
    {
     "name": "stdout",
     "output_type": "stream",
     "text": [
      "Enter string:SFGHHH\n",
      "The string isn't a palindrome\n"
     ]
    }
   ],
   "source": [
    "def pel(str=input(\"Enter string:\")):\n",
    "    if(str==str[::-1]):\n",
    "        print(\"The string is a palindrome\")\n",
    "       \n",
    "    else:\n",
    "        print(\"The string isn't a palindrome\")\n",
    "            \n",
    "pel()"
   ]
  },
  {
   "cell_type": "code",
   "execution_count": 2,
   "id": "17d6b7c3",
   "metadata": {},
   "outputs": [
    {
     "name": "stdout",
     "output_type": "stream",
     "text": [
      "2\n",
      "6\n",
      "8\n",
      "68\n"
     ]
    }
   ],
   "source": [
    "l = [2,5,7,3,6,8,23,68,71]\n",
    "for i in l:\n",
    "    if i%2==0 :\n",
    "        print(i)"
   ]
  },
  {
   "cell_type": "code",
   "execution_count": null,
   "id": "82483f1c",
   "metadata": {},
   "outputs": [],
   "source": [
    "def pel(str=input(\"Enter string:\")):\n",
    "    if(str==str[::-1]):\n",
    "        print(\"it is palindrome\")\n",
    "        \n",
    "    else:\n",
    "        print(\"It's not pailndrome\")\n",
    "        \n",
    "pel()        "
   ]
  },
  {
   "cell_type": "code",
   "execution_count": null,
   "id": "bc55f8c9",
   "metadata": {},
   "outputs": [],
   "source": []
  }
 ],
 "metadata": {
  "kernelspec": {
   "display_name": "Python 3",
   "language": "python",
   "name": "python3"
  },
  "language_info": {
   "codemirror_mode": {
    "name": "ipython",
    "version": 3
   },
   "file_extension": ".py",
   "mimetype": "text/x-python",
   "name": "python",
   "nbconvert_exporter": "python",
   "pygments_lexer": "ipython3",
   "version": "3.8.8"
  }
 },
 "nbformat": 4,
 "nbformat_minor": 5
}
