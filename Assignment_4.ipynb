{
 "cells": [
  {
   "cell_type": "markdown",
   "metadata": {
    "id": "2YW86srR7_au"
   },
   "source": [
    "#### Ques 1. Write a function that asks for an integer and prints the square of it. Use a while loop with a try, except, else block to account for incorrect inputs."
   ]
  },
  {
   "cell_type": "code",
   "execution_count": 3,
   "metadata": {},
   "outputs": [
    {
     "name": "stdout",
     "output_type": "stream",
     "text": [
      "Please pass an integer value :ADGHSghjk\n",
      "invalid literal for int() with base 10: 'ADGHSghjk'\n",
      "Please pass an integer value :24456\n",
      "598095936\n"
     ]
    }
   ],
   "source": [
    "def integer():\n",
    "    \n",
    "    while True:\n",
    "        try:\n",
    "            i = int(input(\"Please pass an integer value :\"))\n",
    "        except Exception as e:\n",
    "            print(e) \n",
    "        else:\n",
    "            a = i**2\n",
    "            break\n",
    "        \n",
    "    print(a)\n",
    "integer()"
   ]
  },
  {
   "cell_type": "markdown",
   "metadata": {
    "id": "sL_d_A8o8tJ_"
   },
   "source": [
    "#### Ques 2. Assuming that we have some email addresses in the \"username@gmail.com\" format, please write program to print the user name of a given email address. Both user names and company names are composed of letters only.\n",
    " #### Example: If the following email address is given as input to the program:\n",
    "#### abc@gmail.com\n",
    "#### then output :- abc"
   ]
  },
  {
   "cell_type": "code",
   "execution_count": 1,
   "metadata": {},
   "outputs": [
    {
     "name": "stdout",
     "output_type": "stream",
     "text": [
      "Please pass an email :anubha@gmail.com\n"
     ]
    },
    {
     "data": {
      "text/plain": [
       "'anubha'"
      ]
     },
     "execution_count": 1,
     "metadata": {},
     "output_type": "execute_result"
    }
   ],
   "source": [
    "import re\n",
    "emailAddress = input(\"Please pass an email :\")\n",
    "pat2 = \"(\\w+)@((\\w+\\.)+(com))\"\n",
    "r2 = re.match(pat2,emailAddress)\n",
    "r2.group(1)"
   ]
  },
  {
   "cell_type": "markdown",
   "metadata": {
    "id": "2Ij2lx7b9C2m"
   },
   "source": [
    "#### Ques 3. Write a function to compute 8/0 and use try/except to catch the exceptions."
   ]
  },
  {
   "cell_type": "code",
   "execution_count": 5,
   "metadata": {},
   "outputs": [
    {
     "name": "stdout",
     "output_type": "stream",
     "text": [
      "Please pass an integer value24\n",
      "8 /  24 = 0.3333333333333333\n"
     ]
    }
   ],
   "source": [
    "try:\n",
    "    a = int(input(\"Please pass an integer value\"))\n",
    "    b = 8/a\n",
    "    print(\"8 / \",a  ,\"=\" , b)\n",
    "except Exception as e:\n",
    "    print(e)"
   ]
  },
  {
   "cell_type": "markdown",
   "metadata": {
    "id": "qhJW9KFJ9VXt"
   },
   "source": [
    "#### Ques 4.Write a Python program that accepts a string and calculate the number of digits and letters.\n",
    "\n",
    "#### Input :-Hello321Bye360\n",
    "#### Output:-Digit - 6,Letter - 8"
   ]
  },
  {
   "cell_type": "code",
   "execution_count": 7,
   "metadata": {},
   "outputs": [
    {
     "name": "stdout",
     "output_type": "stream",
     "text": [
      "Input a string :  anubhapathak\n",
      "Digits 0\n",
      "Letters 12\n"
     ]
    }
   ],
   "source": [
    "a = input(\"Input a string :  \")\n",
    "\n",
    "b=0\n",
    "c=0\n",
    "\n",
    "for i in a:\n",
    "    \n",
    "    if i.isdigit():\n",
    "        \n",
    "        b=b+1\n",
    "        \n",
    "    elif i.isalpha():\n",
    "        \n",
    "        c=c+1\n",
    "        \n",
    "    else:\n",
    "        \n",
    "        pass\n",
    "print(\"Digits\", b)\n",
    "print(\"Letters\", c)"
   ]
  },
  {
   "cell_type": "markdown",
   "metadata": {
    "id": "LCEb_1DQ98yW"
   },
   "source": [
    "#### Ques 5. Define a class named Rectangle which can be constructed by a length and width. The Rectangle class has a method which can compute the area. \n",
    "\n",
    "#### Hints:Use def methodName(self) to define a method."
   ]
  },
  {
   "cell_type": "code",
   "execution_count": 8,
   "metadata": {},
   "outputs": [],
   "source": [
    "class Rectangle:\n",
    "    def __init__(self,length,width):\n",
    "        self.length = length\n",
    "        self.width = width\n",
    "        \n",
    "        \n",
    "    def methodName(self):\n",
    "        return self.length*self.width"
   ]
  },
  {
   "cell_type": "code",
   "execution_count": 13,
   "metadata": {},
   "outputs": [],
   "source": [
    "R =Rectangle(5,5)"
   ]
  },
  {
   "cell_type": "code",
   "execution_count": 14,
   "metadata": {},
   "outputs": [
    {
     "name": "stdout",
     "output_type": "stream",
     "text": [
      "25\n"
     ]
    }
   ],
   "source": [
    "print(R.methodName())\n"
   ]
  },
  {
   "cell_type": "markdown",
   "metadata": {
    "id": "d7hDhJAK-LA7"
   },
   "source": [
    "#### Ques 6. Define a class named Shape and its subclass Square. The Square class has an init function which takes a length as argument. Both classes have a area function which can print the area of the shape where Shape's area is 0 by default.\n",
    "\n",
    "#### Hints: To override a method in super class, we can define a method with the same name in the super class."
   ]
  },
  {
   "cell_type": "code",
   "execution_count": 15,
   "metadata": {},
   "outputs": [
    {
     "name": "stdout",
     "output_type": "stream",
     "text": [
      "100\n",
      "0\n"
     ]
    }
   ],
   "source": [
    "class Shape():\n",
    "    def __init__(self):\n",
    "        pass\n",
    "\n",
    "    def area(self):\n",
    "        return 0\n",
    "\n",
    "class Square(Shape):\n",
    "    def __init__(self,length = 0):\n",
    "        Shape.__init__(self)\n",
    "        self.length = length\n",
    "\n",
    "    def area(self):\n",
    "        return self.length*self.length\n",
    "\n",
    "sqr = Square(10)\n",
    "print(sqr.area())     \n",
    "\n",
    "print(Square().area()) "
   ]
  },
  {
   "cell_type": "markdown",
   "metadata": {
    "id": "OaWtBthM-8Rw"
   },
   "source": [
    "#### Ques 7.You are given a string.Your task is to count the frequency of letters of the string and print the letters in descending order of frequency.\n",
    "\n",
    "#### for example :- If the following string is given as input to the program: aabbbccde\n",
    "\n",
    "#### Then, the output of the program should be: b 3 a 2 c 2 d 1 e 1"
   ]
  },
  {
   "cell_type": "code",
   "execution_count": 17,
   "metadata": {},
   "outputs": [
    {
     "name": "stdout",
     "output_type": "stream",
     "text": [
      "aabbbccde\n",
      "b 3\n",
      "a 2\n",
      "c 2\n",
      "d 1\n",
      "e 1\n"
     ]
    }
   ],
   "source": [
    "word = input()\n",
    "dct = {}\n",
    "for i in word:\n",
    "    dct[i] = dct.get(i,0) + 1\n",
    "\n",
    "dct = sorted(dct.items(),key=lambda x: (-x[1],x[0]))\n",
    "for i in dct:\n",
    "    print(i[0],i[1])"
   ]
  },
  {
   "cell_type": "markdown",
   "metadata": {
    "id": "Q-yx3qMtASF5"
   },
   "source": [
    "#### Ques 8. write a program which prints all permutations of [1,2,3]\n",
    "\n",
    "#### Hints: Use itertools.permutations() to get permutations of list."
   ]
  },
  {
   "cell_type": "markdown",
   "metadata": {
    "id": "NQgLkmceApns"
   },
   "source": []
  },
  {
   "cell_type": "code",
   "execution_count": 18,
   "metadata": {},
   "outputs": [
    {
     "data": {
      "text/plain": [
       "[(1, 2, 3), (1, 3, 2), (2, 1, 3), (2, 3, 1), (3, 1, 2), (3, 2, 1)]"
      ]
     },
     "execution_count": 18,
     "metadata": {},
     "output_type": "execute_result"
    }
   ],
   "source": [
    "import itertools\n",
    "list(itertools.permutations([1, 2, 3]))"
   ]
  }
 ],
 "metadata": {
  "colab": {
   "name": "Assignment_4.ipynb",
   "provenance": []
  },
  "kernelspec": {
   "display_name": "Python 3",
   "language": "python",
   "name": "python3"
  },
  "language_info": {
   "codemirror_mode": {
    "name": "ipython",
    "version": 3
   },
   "file_extension": ".py",
   "mimetype": "text/x-python",
   "name": "python",
   "nbconvert_exporter": "python",
   "pygments_lexer": "ipython3",
   "version": "3.8.8"
  }
 },
 "nbformat": 4,
 "nbformat_minor": 1
}
